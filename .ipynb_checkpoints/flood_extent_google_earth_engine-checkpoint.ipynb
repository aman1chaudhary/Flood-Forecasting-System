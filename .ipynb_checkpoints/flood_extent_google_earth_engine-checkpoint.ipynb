{
 "cells": [
  {
   "cell_type": "code",
   "execution_count": 1,
   "id": "dfe10ff7",
   "metadata": {},
   "outputs": [],
   "source": [
    "# pip install earthengine-api --upgrade"
   ]
  },
  {
   "cell_type": "code",
   "execution_count": null,
   "id": "e55c7782",
   "metadata": {},
   "outputs": [
    {
     "data": {
      "text/html": [
       "<p>To authorize access needed by Earth Engine, open the following\n",
       "        URL in a web browser and follow the instructions:</p>\n",
       "        <p><a href=https://code.earthengine.google.com/client-auth?scopes=https%3A//www.googleapis.com/auth/earthengine%20https%3A//www.googleapis.com/auth/devstorage.full_control&request_id=CPsKElb_6OIBAeJJwyhaFNP6gPbJkdbWB1ceNB8jqyo&tc=PPXgavCUExJYO_Y6wT4zrG9YIgnuBoVFYu-C5Xi3yIo&cc=TA0dlWDjS6ipEqfKhxHrgJW2zuyNEysGA6YtLw8WQ20>https://code.earthengine.google.com/client-auth?scopes=https%3A//www.googleapis.com/auth/earthengine%20https%3A//www.googleapis.com/auth/devstorage.full_control&request_id=CPsKElb_6OIBAeJJwyhaFNP6gPbJkdbWB1ceNB8jqyo&tc=PPXgavCUExJYO_Y6wT4zrG9YIgnuBoVFYu-C5Xi3yIo&cc=TA0dlWDjS6ipEqfKhxHrgJW2zuyNEysGA6YtLw8WQ20</a></p>\n",
       "        <p>The authorization workflow will generate a code, which you should paste in the box below.</p>\n",
       "        "
      ],
      "text/plain": [
       "<IPython.core.display.HTML object>"
      ]
     },
     "metadata": {},
     "output_type": "display_data"
    }
   ],
   "source": [
    "import ee\n",
    "ee.Authenticate()\n",
    "ee.Initialize()\n",
    "print(ee.Image(\"NASA/NASADEM_HGT/001\").get(\"title\").getInfo())"
   ]
  },
  {
   "cell_type": "code",
   "execution_count": null,
   "id": "830916ec",
   "metadata": {},
   "outputs": [],
   "source": []
  }
 ],
 "metadata": {
  "kernelspec": {
   "display_name": "Python 3 (ipykernel)",
   "language": "python",
   "name": "python3"
  },
  "language_info": {
   "codemirror_mode": {
    "name": "ipython",
    "version": 3
   },
   "file_extension": ".py",
   "mimetype": "text/x-python",
   "name": "python",
   "nbconvert_exporter": "python",
   "pygments_lexer": "ipython3",
   "version": "3.10.9"
  }
 },
 "nbformat": 4,
 "nbformat_minor": 5
}
