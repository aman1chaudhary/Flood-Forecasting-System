{
 "cells": [
  {
   "cell_type": "code",
   "execution_count": 1,
   "id": "dfe10ff7",
   "metadata": {},
   "outputs": [],
   "source": [
    "# pip install earthengine-api --upgrade\n",
    "\n",
    "# Authorization code=\"4/1AfJohXnfQF5LmLzwPElBhPeee8d1X9folqXwP91lrbPnQtaBuLZHnF24IlE\""
   ]
  },
  {
   "cell_type": "code",
   "execution_count": 2,
   "id": "5876f330",
   "metadata": {},
   "outputs": [],
   "source": [
    "# pip install geemap"
   ]
  },
  {
   "cell_type": "code",
   "execution_count": 3,
   "id": "bd693732",
   "metadata": {},
   "outputs": [],
   "source": [
    "import ee\n",
    "import geemap\n",
    "# ee.Authenticate()\n",
    "ee.Initialize()\n",
    "# print(ee.Image(\"NASA/NASADEM_HGT/001\").get(\"title\").getInfo())"
   ]
  },
  {
   "cell_type": "code",
   "execution_count": 4,
   "id": "99736efc",
   "metadata": {},
   "outputs": [
    {
     "name": "stdout",
     "output_type": "stream",
     "text": [
      "Tiles selected: Before Flood (3464) 2018-08-07 2018-08-16\n",
      "Tiles selected: After Flood (2863) 2018-08-16 2018-08-23\n"
     ]
    }
   ],
   "source": [
    "\n",
    "\n",
    "# Define date ranges\n",
    "before_start = '2018-08-07'\n",
    "before_end = '2018-08-16'\n",
    "after_start = '2018-08-16'\n",
    "after_end = '2018-08-23'\n",
    "\n",
    "# Other parameters\n",
    "polarization = \"VH\"\n",
    "pass_direction = \"DESCENDING\"\n",
    "difference_threshold = 1.25\n",
    "\n",
    "# Load Sentinel-1 GRD data and filter\n",
    "collection = (ee.ImageCollection('COPERNICUS/S1_GRD')\n",
    "              .filter(ee.Filter.eq('instrumentMode', 'IW'))\n",
    "              .filter(ee.Filter.listContains('transmitterReceiverPolarisation', polarization))\n",
    "              .filter(ee.Filter.eq('orbitProperties_pass', pass_direction))\n",
    "              .filter(ee.Filter.eq('resolution_meters', 10)))\n",
    "\n",
    "# Load the shapefile as a FeatureCollection\n",
    "geometry = ee.FeatureCollection(\"users/amanchaudhary/periyar_basin\")\n",
    "\n",
    "\n",
    "# Select images by predefined dates\n",
    "before_collection = collection.filterDate(before_start, before_end)\n",
    "after_collection = collection.filterDate(after_start, after_end)\n",
    "\n",
    "# Print selected tiles to the console\n",
    "before_count = before_collection.size().getInfo()\n",
    "print(f'Tiles selected: Before Flood ({before_count})', before_start, before_end)\n",
    "after_count = after_collection.size().getInfo()\n",
    "print(f'Tiles selected: After Flood ({after_count})', after_start, after_end)\n",
    "\n",
    "# Create a mosaic of selected tiles and clip to the study area\n",
    "before = before_collection.mosaic().clip(geometry)\n",
    "after = after_collection.mosaic().clip(geometry)\n",
    "\n",
    "# Apply radar speckle reduction by smoothing\n",
    "smoothing_radius = 50\n",
    "before_filtered = before.focal_mean(smoothing_radius, 'circle', 'meters')\n",
    "after_filtered = after.focal_mean(smoothing_radius, 'circle', 'meters')\n",
    "\n",
    "# Water Detection\n",
    "waterThreshold = -18\n",
    "afterWaterBinary = after_filtered.lt(waterThreshold).selfMask()\n",
    "\n",
    "# Flood Extent Calculation\n",
    "difference = after_filtered.divide(before_filtered)\n",
    "threshold = difference_threshold\n",
    "difference_binary = difference.gt(threshold)\n",
    "\n",
    "# Refine flood result using additional datasets\n",
    "swater = ee.Image('JRC/GSW1_0/GlobalSurfaceWater').select('seasonality')\n",
    "swater_mask = swater.gte(10).updateMask(swater.gte(10))\n",
    "flooded_mask = difference_binary.where(swater_mask, 0)\n",
    "connections = flooded_mask.connectedPixelCount()\n",
    "flooded = flooded_mask.updateMask(connections.gte(8))\n",
    "DEM = ee.Image('WWF/HydroSHEDS/03VFDEM')\n",
    "terrain = ee.Algorithms.Terrain(DEM)\n",
    "slope = terrain.select('slope')\n",
    "flooded = flooded.updateMask(slope.lt(5))\n",
    "\n",
    "# Calculate flood extent area\n",
    "flood_pixelarea = flooded.select(polarization).multiply(ee.Image.pixelArea())\n",
    "flood_stats = flood_pixelarea.reduceRegion(\n",
    "    reducer=ee.Reducer.sum(),\n",
    "    geometry=geometry,\n",
    "    scale=10,\n",
    "    bestEffort=True\n",
    ")\n",
    "\n",
    "# Display Products using geemap\n",
    "# Map = geemap.Map()\n",
    "# Map.centerObject(geometry, 8)\n",
    "# Map.addLayer(before_filtered, {'min': -25, 'max': 0}, 'Before Flood', 0)\n",
    "# Map.addLayer(after_filtered, {'min': -25, 'max': 0}, 'After Flood', 1)\n",
    "# Map.addLayer(afterWaterBinary, {'palette': 'blue'}, 'Water After Flood')\n",
    "# Map.addLayer(difference, {'min': 0, 'max': 2}, 'Difference Layer', 0)\n",
    "# Map.addLayer(flooded, {'palette': \"ff0051\"}, 'Flooded areas')\n",
    "# Map\n",
    "\n",
    "# Export the 'afterWaterBinary' image as a raster file\n",
    "export_params = {\n",
    "    'image': afterWaterBinary,\n",
    "    'description': 'afterWaterBinary',\n",
    "    'scale': 10,\n",
    "    'region': geometry.geometry().bounds(),\n",
    "    'fileFormat': 'GeoTIFF',\n",
    "    'maxPixels': 1e10\n",
    "}\n",
    "\n",
    "\n",
    "task = ee.batch.Export.image.toDrive(**export_params)\n",
    "task.start()\n"
   ]
  },
  {
   "cell_type": "code",
   "execution_count": 7,
   "id": "0f79c5ca",
   "metadata": {},
   "outputs": [
    {
     "name": "stdout",
     "output_type": "stream",
     "text": [
      "Export task status: {'state': 'RUNNING', 'description': 'afterWaterBinary', 'creation_timestamp_ms': 1695055732235, 'update_timestamp_ms': 1695055746212, 'start_timestamp_ms': 1695055746178, 'task_type': 'EXPORT_IMAGE', 'attempt': 1, 'id': '3CVOXLU3I422ESWRB4FIOQRT', 'name': 'projects/earthengine-legacy/operations/3CVOXLU3I422ESWRB4FIOQRT'}\n"
     ]
    }
   ],
   "source": [
    "# Check the status of the export task\n",
    "status = task.status()\n",
    "print('Export task status:', status)\n",
    "\n",
    "# If the task has completed, print the link to the exported file\n",
    "if status['state'] == 'COMPLETED':\n",
    "    print('Export completed. Download link:', status['id'])\n"
   ]
  },
  {
   "cell_type": "code",
   "execution_count": null,
   "id": "6db96b2c",
   "metadata": {},
   "outputs": [],
   "source": []
  }
 ],
 "metadata": {
  "kernelspec": {
   "display_name": "Python 3 (ipykernel)",
   "language": "python",
   "name": "python3"
  },
  "language_info": {
   "codemirror_mode": {
    "name": "ipython",
    "version": 3
   },
   "file_extension": ".py",
   "mimetype": "text/x-python",
   "name": "python",
   "nbconvert_exporter": "python",
   "pygments_lexer": "ipython3",
   "version": "3.10.9"
  }
 },
 "nbformat": 4,
 "nbformat_minor": 5
}
